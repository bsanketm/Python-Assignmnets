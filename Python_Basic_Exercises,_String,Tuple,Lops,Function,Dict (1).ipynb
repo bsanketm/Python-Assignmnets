{
 "cells": [
  {
   "cell_type": "markdown",
   "metadata": {
    "id": "LQ1RiVje-Wvj"
   },
   "source": [
    "# **String**\n",
    "\n",
    "1. Write A program to return entire lowercase of a string.\n",
    "\n",
    "  word = IANALYST INFOTECH \n"
   ]
  },
  {
   "cell_type": "code",
   "execution_count": 1,
   "metadata": {
    "id": "2ANAzQn8-FO5"
   },
   "outputs": [
    {
     "name": "stdout",
     "output_type": "stream",
     "text": [
      "IANALYST INFOTECH\n"
     ]
    }
   ],
   "source": [
    "word = \"IANALYST INFOTECH\"\n",
    "print(word)\n"
   ]
  },
  {
   "cell_type": "code",
   "execution_count": 6,
   "metadata": {},
   "outputs": [
    {
     "data": {
      "text/plain": [
       "'ianalyst infotech'"
      ]
     },
     "execution_count": 6,
     "metadata": {},
     "output_type": "execute_result"
    }
   ],
   "source": [
    "word.lower()"
   ]
  },
  {
   "cell_type": "markdown",
   "metadata": {
    "id": "68tXKfil-Vx6"
   },
   "source": [
    "2. Count athe number of a specific character in 'a' string.\n",
    "\n",
    "  word = ianalyst "
   ]
  },
  {
   "cell_type": "code",
   "execution_count": 2,
   "metadata": {
    "id": "yE3j0yL_Ppbw"
   },
   "outputs": [
    {
     "name": "stdout",
     "output_type": "stream",
     "text": [
      "2\n"
     ]
    }
   ],
   "source": [
    "word = \"ianalyst\"\n",
    "len(word)\n",
    "substring = \"a\"\n",
    "count = word.count(substring)\n",
    "#word.count(a)\n",
    "print(count)"
   ]
  },
  {
   "cell_type": "markdown",
   "metadata": {
    "id": "Jhh4Mh9B_gqs"
   },
   "source": [
    "3. Write a Program to count total number of characters in a string.\n",
    "\n",
    "  Word =  \"iAnalyst Infotech\""
   ]
  },
  {
   "cell_type": "code",
   "execution_count": 23,
   "metadata": {
    "id": "Ccvrce7o_Kv8"
   },
   "outputs": [
    {
     "data": {
      "text/plain": [
       "17"
      ]
     },
     "execution_count": 23,
     "metadata": {},
     "output_type": "execute_result"
    }
   ],
   "source": [
    "Word = \"iAnalyst Infotech\"\n",
    "len(Word)\n"
   ]
  },
  {
   "cell_type": "markdown",
   "metadata": {
    "id": "bCX_5t9FQEiK"
   },
   "source": [
    "4. Arrange string characters such that lowercase letters should come first.\n",
    "\n",
    "  Given an input string with the combination of the lower and upper case arrange characters in such a way that all lowercase letters should come first.\n",
    "  Given:\n",
    "\n",
    "   str1 = PyNaTive\n",
    "   \n",
    "  Expected Output: yaivePNT"
   ]
  },
  {
   "cell_type": "code",
   "execution_count": 20,
   "metadata": {
    "id": "Jpc59tdrQErT"
   },
   "outputs": [
    {
     "data": {
      "text/plain": [
       "['y', 'v', 'i', 'e', 'a', 'T', 'P', 'N']"
      ]
     },
     "execution_count": 20,
     "metadata": {},
     "output_type": "execute_result"
    }
   ],
   "source": [
    "str1 = \"PyNaTive\"\n",
    "sorted(str1,reverse=True)"
   ]
  },
  {
   "cell_type": "markdown",
   "metadata": {
    "id": "fIr78knbAB2K"
   },
   "source": [
    "## **List**\n",
    "\n",
    "1. Concate two lists.\n",
    "\n",
    "  one = [1,2,3]\n",
    "\n",
    "  two = [4,5,6]"
   ]
  },
  {
   "cell_type": "code",
   "execution_count": 11,
   "metadata": {
    "id": "WWYb2OdZALDt"
   },
   "outputs": [
    {
     "data": {
      "text/plain": [
       "[1, 2, 3, 4, 5, 6]"
      ]
     },
     "execution_count": 11,
     "metadata": {},
     "output_type": "execute_result"
    }
   ],
   "source": [
    "one = [1,2,3]\n",
    "two = [4,5,6]\n",
    "one + two"
   ]
  },
  {
   "cell_type": "markdown",
   "metadata": {
    "id": "FB8LAynAAoZV"
   },
   "source": [
    "2. Remove all element from the list.\n",
    "\n",
    "  list = [1,2,3,4,5,6]"
   ]
  },
  {
   "cell_type": "code",
   "execution_count": 42,
   "metadata": {
    "id": "y24bbJ4OPd7R"
   },
   "outputs": [
    {
     "data": {
      "text/plain": [
       "[]"
      ]
     },
     "execution_count": 42,
     "metadata": {},
     "output_type": "execute_result"
    }
   ],
   "source": [
    "list1 = [1,2,3,4,5,6]\n",
    "type(list)\n",
    "#list1.remove('2')\n",
    "del list1[0:6]\n",
    "list1"
   ]
  },
  {
   "cell_type": "markdown",
   "metadata": {
    "id": "DmtS7oLFPeMH"
   },
   "source": [
    "3.  Given a Python list you should be able to display Python list in the following order.\n",
    "\n",
    "    aLsit = [100, 200, 300, 400, 500]\n",
    "    \n",
    "    Expected output:[500, 400, 300, 200, 100]"
   ]
  },
  {
   "cell_type": "code",
   "execution_count": 57,
   "metadata": {
    "id": "ZmuTbvTzPeU7"
   },
   "outputs": [
    {
     "data": {
      "text/plain": [
       "[500, 400, 300, 200, 100]"
      ]
     },
     "execution_count": 57,
     "metadata": {},
     "output_type": "execute_result"
    }
   ],
   "source": [
    "aLsit = [100,200,300,400,500]\n",
    "aLsit.sort(reverse = True)\n",
    "aLsit"
   ]
  },
  {
   "cell_type": "markdown",
   "metadata": {
    "id": "nHGQdrPaBCQ5"
   },
   "source": [
    "# **Dictionary** \n",
    "\n",
    "1. Write a Python script to sum all the items in a dictionary.\n",
    "\n",
    "  Dict = {100,-54,247}"
   ]
  },
  {
   "cell_type": "code",
   "execution_count": 60,
   "metadata": {
    "id": "sXx5eLpFBG7P"
   },
   "outputs": [
    {
     "data": {
      "text/plain": [
       "293"
      ]
     },
     "execution_count": 60,
     "metadata": {},
     "output_type": "execute_result"
    }
   ],
   "source": [
    "Dict = {100,-54,247}\n",
    "sum(Dict)"
   ]
  },
  {
   "cell_type": "markdown",
   "metadata": {
    "id": "JWYf4mlXCQDW"
   },
   "source": [
    "2. Write a Python Script to check a dictionary is empty or not."
   ]
  },
  {
   "cell_type": "code",
   "execution_count": 47,
   "metadata": {},
   "outputs": [
    {
     "data": {
      "text/plain": [
       "True"
      ]
     },
     "execution_count": 47,
     "metadata": {},
     "output_type": "execute_result"
    }
   ],
   "source": [
    "dictionary = {}\n",
    "not bool(dictionary)"
   ]
  },
  {
   "cell_type": "markdown",
   "metadata": {
    "id": "Oxw1nuN6CZ1I"
   },
   "source": [
    "3. Write a Python script to add a key to a dictionary.\n",
    "\n",
    "  Sample Dictionary: {0:10, 1:20}\n",
    "  \n",
    "  Add dict : {3:30}\n"
   ]
  },
  {
   "cell_type": "code",
   "execution_count": 48,
   "metadata": {
    "id": "BbjhBNCXDTzX"
   },
   "outputs": [
    {
     "name": "stdout",
     "output_type": "stream",
     "text": [
      "{'0': '10', '1': '20'}\n",
      "{'0': '10', '1': '20', '3': 30}\n"
     ]
    },
    {
     "data": {
      "text/plain": [
       "dict"
      ]
     },
     "execution_count": 48,
     "metadata": {},
     "output_type": "execute_result"
    }
   ],
   "source": [
    "Sample = {\"0\":\"10\",\"1\":\"20\"}\n",
    "print(Sample) \n",
    "type(Sample) \n",
    "Sample['3'] = 30\n",
    "print(Sample)\n",
    "type(Sample)"
   ]
  },
  {
   "cell_type": "markdown",
   "metadata": {
    "id": "vGoBqLTwN85g"
   },
   "source": [
    "4. With a given integral number n, write a program to generate a dictionary that contains (i, i*i) such that is an integral number between 1 and n (both included). and then the program should print the dictionary.\n",
    "Suppose the following input is supplied to the program:\n",
    "8\n",
    "\n",
    "Then, the output should be:\n",
    "{1: 1, 2: 4, 3: 9, 4: 16, 5: 25, 6: 36, 7: 49, 8: 64}\n",
    "\n",
    "Hints:\n",
    "In case of input data being supplied to the question, it should be assumed to be a console input.\n",
    "Consider use dict()"
   ]
  },
  {
   "cell_type": "code",
   "execution_count": null,
   "metadata": {
    "id": "ur_f8pmgOGO8"
   },
   "outputs": [],
   "source": []
  },
  {
   "cell_type": "markdown",
   "metadata": {
    "id": "RiYjmVhNDW7M"
   },
   "source": [
    "# **Tuple** \n",
    " 1. Write a Program to find the repeated items of a Tuple.\n",
    "\n",
    "  Tuple = 2,4,5,6,7,4,8,4"
   ]
  },
  {
   "cell_type": "code",
   "execution_count": 45,
   "metadata": {},
   "outputs": [
    {
     "data": {
      "text/plain": [
       "[2, 4, 5, 6, 7, 8]"
      ]
     },
     "execution_count": 45,
     "metadata": {},
     "output_type": "execute_result"
    }
   ],
   "source": [
    "Tuple= 2,4,5,6,7,4,8,4\n",
    "import collections\n",
    "b =([item for item, count in collections.Counter(a).items() if count > 0])\n",
    "b.sort()\n",
    "b"
   ]
  },
  {
   "cell_type": "code",
   "execution_count": null,
   "metadata": {},
   "outputs": [],
   "source": []
  },
  {
   "cell_type": "markdown",
   "metadata": {
    "id": "EGQw1dWJOmW5"
   },
   "source": [
    "2. Check if all items in the following tuple are the same.\n",
    "\n",
    "  tuple1 = (45, 45, 45, 45)\n",
    "\n",
    "  Expected output:True"
   ]
  },
  {
   "cell_type": "code",
   "execution_count": 46,
   "metadata": {},
   "outputs": [
    {
     "name": "stdout",
     "output_type": "stream",
     "text": [
      "True\n"
     ]
    }
   ],
   "source": [
    "tuple1 = (45, 45, 45, 45, 45)\n",
    "a=0\n",
    "for i in range(len(tuple1)-1):\n",
    "    if tuple1[i] == tuple1[i+1]:\n",
    "        a=a+1\n",
    "if a==len(tuple1)-1:\n",
    "    print(True)\n",
    "else:\n",
    "    print(False)"
   ]
  },
  {
   "cell_type": "code",
   "execution_count": null,
   "metadata": {},
   "outputs": [],
   "source": []
  },
  {
   "cell_type": "markdown",
   "metadata": {
    "id": "Ci3Ho3HxPG11"
   },
   "source": [
    "3. Copy element 44 and 55 from the following tuple into a new tuple.\n",
    "\n",
    "    tuple1 = (11, 22, 33, 44, 55, 66)\n",
    "\n",
    "    Expected output:tuple2 = (44, 55)"
   ]
  },
  {
   "cell_type": "code",
   "execution_count": 48,
   "metadata": {
    "id": "DkmL-k8OPHAv"
   },
   "outputs": [
    {
     "data": {
      "text/plain": [
       "(44, 55)"
      ]
     },
     "execution_count": 48,
     "metadata": {},
     "output_type": "execute_result"
    }
   ],
   "source": [
    "tuple1 = (11, 22, 33, 44, 55, 66)\n",
    "tuple2 = (tuple1[3:5])\n",
    "tuple2"
   ]
  },
  {
   "cell_type": "markdown",
   "metadata": {
    "id": "1AGgmJXtFat8"
   },
   "source": [
    "# Condition Statement and loops \n",
    "1. Display -10 to -1 usning Loop ."
   ]
  },
  {
   "cell_type": "code",
   "execution_count": 12,
   "metadata": {
    "id": "SrFxBAcrEIaR"
   },
   "outputs": [
    {
     "name": "stdout",
     "output_type": "stream",
     "text": [
      "-10\n",
      "-9\n",
      "-8\n",
      "-7\n",
      "-6\n",
      "-5\n",
      "-4\n",
      "-3\n",
      "-2\n",
      "-1\n"
     ]
    }
   ],
   "source": [
    "for x in range(-10,0):\n",
    "    print(x)"
   ]
  },
  {
   "cell_type": "markdown",
   "metadata": {
    "id": "YD4PM4w0FyzK"
   },
   "source": [
    "2. Write a Python program to print Fibonacci series between 0-50."
   ]
  },
  {
   "cell_type": "code",
   "execution_count": 49,
   "metadata": {
    "id": "7VirkPt0Edps"
   },
   "outputs": [
    {
     "name": "stdout",
     "output_type": "stream",
     "text": [
      "0\n",
      "1\n",
      "1\n",
      "2\n",
      "3\n",
      "5\n",
      "8\n",
      "13\n",
      "21\n",
      "34\n"
     ]
    }
   ],
   "source": [
    "a = 0\n",
    "b = 1\n",
    "n = 50\n",
    "while a <= n:\n",
    "    print(a)\n",
    "    c = a + b\n",
    "    a = b\n",
    "    b = c"
   ]
  },
  {
   "cell_type": "code",
   "execution_count": null,
   "metadata": {},
   "outputs": [],
   "source": []
  },
  {
   "cell_type": "markdown",
   "metadata": {
    "id": "47ec91CFM8EE"
   },
   "source": [
    "3. Exercise Question 3: Accept number from user and calculate the sum of all number between 1 and given number.\n",
    "\n",
    "For example user given 10 so the output should be 55"
   ]
  },
  {
   "cell_type": "code",
   "execution_count": 50,
   "metadata": {
    "id": "tbRjvcKTM9ka"
   },
   "outputs": [
    {
     "name": "stdout",
     "output_type": "stream",
     "text": [
      "10\n"
     ]
    },
    {
     "data": {
      "text/plain": [
       "55"
      ]
     },
     "execution_count": 50,
     "metadata": {},
     "output_type": "execute_result"
    }
   ],
   "source": [
    "n = int(input())\n",
    "l=[]\n",
    "for i in range(n+1):\n",
    "    l.append(i)\n",
    "sum(l)"
   ]
  },
  {
   "cell_type": "code",
   "execution_count": null,
   "metadata": {},
   "outputs": [],
   "source": []
  },
  {
   "cell_type": "markdown",
   "metadata": {
    "id": "pprQdpIBHoFn"
   },
   "source": [
    "4. Print First 10 natural numbers using while loop . \n"
   ]
  },
  {
   "cell_type": "code",
   "execution_count": 14,
   "metadata": {},
   "outputs": [
    {
     "name": "stdout",
     "output_type": "stream",
     "text": [
      "1\n",
      "2\n",
      "3\n",
      "4\n",
      "5\n",
      "6\n",
      "7\n",
      "8\n",
      "9\n",
      "10\n"
     ]
    }
   ],
   "source": [
    "i = 1\n",
    "print(i)\n",
    "while i < 10:\n",
    "    i = i + 1\n",
    "    print(i)"
   ]
  },
  {
   "cell_type": "code",
   "execution_count": null,
   "metadata": {},
   "outputs": [],
   "source": []
  }
 ],
 "metadata": {
  "colab": {
   "collapsed_sections": [],
   "name": "Python Basic Exercises, String,Tuple,Lops,Function,Dict.ipynb",
   "private_outputs": true,
   "provenance": []
  },
  "kernelspec": {
   "display_name": "Python 3",
   "language": "python",
   "name": "python3"
  },
  "language_info": {
   "codemirror_mode": {
    "name": "ipython",
    "version": 3
   },
   "file_extension": ".py",
   "mimetype": "text/x-python",
   "name": "python",
   "nbconvert_exporter": "python",
   "pygments_lexer": "ipython3",
   "version": "3.8.5"
  }
 },
 "nbformat": 4,
 "nbformat_minor": 1
}
